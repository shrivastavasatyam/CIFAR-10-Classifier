{
 "cells": [
  {
   "cell_type": "markdown",
   "id": "76b2f16d",
   "metadata": {},
   "source": [
    "## Appendix-6: Deep neural network without convolution layer (DNN):\n",
    "\n",
    "This method uses a deep neural network architecture without convolutional layers to classify the CIFAR-10 dataset. The network consisted of several fully connected layers, each followed by a ReLU activation function, and a final softmax layer for classification. \n",
    "\n",
    "We used PyTorch to implement the model and trained it using the cross-entropy loss function and the stochastic gradient descent (SGD) optimizer."
   ]
  },
  {
   "cell_type": "code",
   "execution_count": 1,
   "id": "fd0e9394",
   "metadata": {},
   "outputs": [],
   "source": [
    "# import library dependencies\n",
    "import torch\n",
    "import torch.nn as nn\n",
    "import torch.optim as optim\n",
    "from torchvision.datasets import CIFAR10\n",
    "from torch.utils.data import DataLoader\n",
    "import torchvision.transforms as transforms"
   ]
  },
  {
   "cell_type": "markdown",
   "id": "d663ea15",
   "metadata": {},
   "source": [
    "#### Import Data"
   ]
  },
  {
   "cell_type": "code",
   "execution_count": 2,
   "id": "1711775b",
   "metadata": {},
   "outputs": [],
   "source": [
    "ROOT_PATH='../'"
   ]
  },
  {
   "cell_type": "code",
   "execution_count": 3,
   "id": "5df3d530",
   "metadata": {},
   "outputs": [],
   "source": [
    "BATCH_SIZE=16"
   ]
  },
  {
   "cell_type": "code",
   "execution_count": 4,
   "id": "35b90acc",
   "metadata": {},
   "outputs": [],
   "source": [
    "transform = transforms.Compose(\n",
    "    [transforms.ToTensor(),\n",
    "     transforms.Normalize((0.5, 0.5, 0.5), (0.5, 0.5, 0.5))])"
   ]
  },
  {
   "cell_type": "code",
   "execution_count": 5,
   "id": "2c11a8b3",
   "metadata": {},
   "outputs": [
    {
     "name": "stdout",
     "output_type": "stream",
     "text": [
      "Files already downloaded and verified\n"
     ]
    }
   ],
   "source": [
    "train_dataset = CIFAR10(root=ROOT_PATH, download=True, train=True, transform=transform)\n",
    "eval_dataset = CIFAR10(root=ROOT_PATH, train=False, transform=transform)"
   ]
  },
  {
   "cell_type": "markdown",
   "id": "5d259603",
   "metadata": {},
   "source": [
    "#### Preprocess Data"
   ]
  },
  {
   "cell_type": "code",
   "execution_count": 6,
   "id": "d3abaa9d",
   "metadata": {},
   "outputs": [],
   "source": [
    "train_data_loader = DataLoader(dataset=train_dataset, num_workers=4, batch_size=BATCH_SIZE, shuffle=True)\n",
    "eval_data_loader = DataLoader(dataset=eval_dataset, num_workers=4, batch_size=BATCH_SIZE, shuffle=False)"
   ]
  },
  {
   "cell_type": "markdown",
   "id": "f91aa0a0",
   "metadata": {},
   "source": [
    "#### Define model and train"
   ]
  },
  {
   "cell_type": "code",
   "execution_count": null,
   "id": "1ae1fe02",
   "metadata": {},
   "outputs": [],
   "source": [
    "# define the DNN architecture\n",
    "class DNN(nn.Module):\n",
    "    def __init__(self):\n",
    "        super(DNN, self).__init__()\n",
    "        self.fc1 = nn.Linear(32*32*3, 512)\n",
    "        self.fc2 = nn.Linear(512, 10)\n",
    "\n",
    "    def forward(self, x):\n",
    "        x = x.view(-1, 32*32*3)\n",
    "        x = self.fc1(x)\n",
    "        x = nn.functional.relu(x)\n",
    "        x = self.fc2(x)\n",
    "        return x"
   ]
  },
  {
   "cell_type": "code",
   "execution_count": 8,
   "id": "e4a7f655",
   "metadata": {},
   "outputs": [],
   "source": [
    "# create an instance of the DNN\n",
    "net = DNN()"
   ]
  },
  {
   "cell_type": "code",
   "execution_count": 9,
   "id": "ef2f4090",
   "metadata": {},
   "outputs": [],
   "source": [
    "# define the loss function and optimizer\n",
    "criterion = nn.CrossEntropyLoss()\n",
    "optimizer = optim.SGD(net.parameters(), lr=0.001, momentum=0.9)"
   ]
  },
  {
   "cell_type": "code",
   "execution_count": 10,
   "id": "eff55a13",
   "metadata": {},
   "outputs": [],
   "source": [
    "num_epochs = 50"
   ]
  },
  {
   "cell_type": "code",
   "execution_count": 11,
   "id": "ede8627e",
   "metadata": {},
   "outputs": [
    {
     "name": "stdout",
     "output_type": "stream",
     "text": [
      "[1,  2000] loss: 1.755\n",
      "[2,  2000] loss: 1.495\n",
      "[3,  2000] loss: 1.382\n",
      "[4,  2000] loss: 1.306\n",
      "[5,  2000] loss: 1.244\n",
      "[6,  2000] loss: 1.195\n",
      "[7,  2000] loss: 1.137\n",
      "[8,  2000] loss: 1.082\n",
      "[9,  2000] loss: 1.036\n",
      "[10,  2000] loss: 0.992\n",
      "[11,  2000] loss: 0.948\n",
      "[12,  2000] loss: 0.908\n",
      "[13,  2000] loss: 0.867\n",
      "[14,  2000] loss: 0.823\n",
      "[15,  2000] loss: 0.790\n",
      "[16,  2000] loss: 0.752\n",
      "[17,  2000] loss: 0.712\n",
      "[18,  2000] loss: 0.685\n",
      "[19,  2000] loss: 0.653\n",
      "[20,  2000] loss: 0.621\n",
      "[21,  2000] loss: 0.589\n",
      "[22,  2000] loss: 0.551\n",
      "[23,  2000] loss: 0.524\n",
      "[24,  2000] loss: 0.499\n",
      "[25,  2000] loss: 0.482\n",
      "[26,  2000] loss: 0.447\n",
      "[27,  2000] loss: 0.427\n",
      "[28,  2000] loss: 0.397\n",
      "[29,  2000] loss: 0.387\n",
      "[30,  2000] loss: 0.361\n",
      "[31,  2000] loss: 0.340\n",
      "[32,  2000] loss: 0.320\n",
      "[33,  2000] loss: 0.293\n",
      "[34,  2000] loss: 0.281\n",
      "[35,  2000] loss: 0.261\n",
      "[36,  2000] loss: 0.249\n",
      "[37,  2000] loss: 0.234\n",
      "[38,  2000] loss: 0.218\n",
      "[39,  2000] loss: 0.209\n",
      "[40,  2000] loss: 0.189\n",
      "[41,  2000] loss: 0.180\n",
      "[42,  2000] loss: 0.174\n",
      "[43,  2000] loss: 0.154\n",
      "[44,  2000] loss: 0.142\n",
      "[45,  2000] loss: 0.120\n",
      "[46,  2000] loss: 0.120\n",
      "[47,  2000] loss: 0.113\n",
      "[48,  2000] loss: 0.120\n",
      "[49,  2000] loss: 0.113\n",
      "[50,  2000] loss: 0.092\n",
      "Finished Training\n"
     ]
    }
   ],
   "source": [
    "# train the DNN\n",
    "for epoch in range(num_epochs):  # loop over the dataset multiple times\n",
    "\n",
    "    running_loss = 0.0\n",
    "    for i, data in enumerate(train_data_loader, 0):\n",
    "        # get the inputs; data is a list of [inputs, labels]\n",
    "        inputs, labels = data\n",
    "\n",
    "        # zero the parameter gradients\n",
    "        optimizer.zero_grad()\n",
    "\n",
    "        # forward + backward + optimize\n",
    "        outputs = net(inputs)\n",
    "        loss = criterion(outputs, labels)\n",
    "        loss.backward()\n",
    "        optimizer.step()\n",
    "\n",
    "        # print statistics\n",
    "        running_loss += loss.item()\n",
    "        if i % 2000 == 1999:    # print every 2000 mini-batches\n",
    "            print('[%d, %5d] loss: %.3f' %\n",
    "                  (epoch + 1, i + 1, running_loss / 2000))\n",
    "            running_loss = 0.0\n",
    "\n",
    "print('Finished Training')"
   ]
  },
  {
   "cell_type": "markdown",
   "id": "f7afa07f",
   "metadata": {},
   "source": [
    "#### Save and load model"
   ]
  },
  {
   "cell_type": "code",
   "execution_count": 12,
   "id": "0bee92fd",
   "metadata": {},
   "outputs": [],
   "source": [
    "# save the trained model\n",
    "torch.save(net, 'dnn.pth')"
   ]
  },
  {
   "cell_type": "code",
   "execution_count": 13,
   "id": "c894d5d2",
   "metadata": {},
   "outputs": [],
   "source": [
    "# load the saved model\n",
    "net = torch.load('dnn.pth')"
   ]
  },
  {
   "cell_type": "markdown",
   "id": "9700caa2",
   "metadata": {},
   "source": [
    "#### Evaluate the model"
   ]
  },
  {
   "cell_type": "code",
   "execution_count": 14,
   "id": "03bfd7f1",
   "metadata": {},
   "outputs": [
    {
     "name": "stdout",
     "output_type": "stream",
     "text": [
      "Accuracy of the network on the 10000 test images: 53 %\n"
     ]
    }
   ],
   "source": [
    "# evaluate the DNN\n",
    "net.eval()\n",
    "correct = 0\n",
    "total = 0\n",
    "with torch.no_grad():\n",
    "    for data in eval_data_loader:\n",
    "        images, labels = data\n",
    "        outputs = net(images)\n",
    "        _, predicted = torch.max(outputs.data, 1)\n",
    "        total += labels.size(0)\n",
    "        correct += (predicted == labels).sum().item()\n",
    "\n",
    "print('Accuracy of the network on the 10000 test images: %d %%' % (\n",
    "    100 * correct / total))"
   ]
  },
  {
   "cell_type": "code",
   "execution_count": 15,
   "id": "845bbabf",
   "metadata": {},
   "outputs": [],
   "source": [
    "class_names = ['plane', 'car', 'bird', 'cat', 'deer', 'dog', 'frog', 'horse', 'ship', 'truck']"
   ]
  },
  {
   "cell_type": "code",
   "execution_count": 16,
   "id": "54e62d91",
   "metadata": {},
   "outputs": [
    {
     "name": "stdout",
     "output_type": "stream",
     "text": [
      "Accuracy of plane : 55 %\n",
      "Accuracy of   car : 61 %\n",
      "Accuracy of  bird : 45 %\n",
      "Accuracy of   cat : 42 %\n",
      "Accuracy of  deer : 42 %\n",
      "Accuracy of   dog : 38 %\n",
      "Accuracy of  frog : 54 %\n",
      "Accuracy of horse : 60 %\n",
      "Accuracy of  ship : 68 %\n",
      "Accuracy of truck : 61 %\n"
     ]
    }
   ],
   "source": [
    "# calculate class-wise accuracy\n",
    "class_correct = list(0. for i in range(10))\n",
    "class_total = list(0. for i in range(10))\n",
    "with torch.no_grad():\n",
    "    for data in eval_data_loader:\n",
    "        images, labels = data\n",
    "        outputs = net(images)\n",
    "        _, predicted = torch.max(outputs, 1)\n",
    "        c = (predicted == labels).squeeze()\n",
    "        for i in range(BATCH_SIZE):\n",
    "            label = labels[i]\n",
    "            class_correct[label] += c[i].item()\n",
    "            class_total[label] += 1\n",
    "\n",
    "for i in range(10):\n",
    "    print('Accuracy of %5s : %2d %%' % (\n",
    "        class_names[i], 100 * class_correct[i] / class_total[i]))"
   ]
  },
  {
   "cell_type": "code",
   "execution_count": 17,
   "id": "63806bff",
   "metadata": {},
   "outputs": [
    {
     "name": "stdout",
     "output_type": "stream",
     "text": [
      "Accuracy: 53.07 %\n",
      "Precision: 63.46 %\n",
      "Recall: 12.38 %\n",
      "F1 Score: 20.71 %\n"
     ]
    }
   ],
   "source": [
    "TP = 0\n",
    "FP = 0\n",
    "TN = 0\n",
    "FN = 0\n",
    "\n",
    "with torch.no_grad():\n",
    "    for data in eval_data_loader:\n",
    "        images, labels = data\n",
    "        images = images\n",
    "        labels = labels\n",
    "        outputs = net(images)\n",
    "        _, predicted = torch.max(outputs.data, 1)\n",
    "        for i in range(len(labels)):\n",
    "            if predicted[i] == labels[i]:\n",
    "                if predicted[i] == 1:\n",
    "                    TP += 1\n",
    "                else:\n",
    "                    TN += 1\n",
    "            else:\n",
    "                if predicted[i] == 1:\n",
    "                    FP += 1\n",
    "                else:\n",
    "                    FN += 1\n",
    "\n",
    "accuracy = 100 * (TP + TN) / (TP + TN + FP + FN)\n",
    "precision = 100 * TP / (TP + FP)\n",
    "recall = 100 * TP / (TP + FN)\n",
    "f1_score = 2 * precision * recall / (precision + recall)\n",
    "\n",
    "print('Accuracy: %.2f %%' % (accuracy))\n",
    "print('Precision: %.2f %%' % (precision))\n",
    "print('Recall: %.2f %%' % (recall))\n",
    "print('F1 Score: %.2f %%' % (f1_score))"
   ]
  }
 ],
 "metadata": {
  "kernelspec": {
   "display_name": "Python 3 (ipykernel)",
   "language": "python",
   "name": "python3"
  },
  "language_info": {
   "codemirror_mode": {
    "name": "ipython",
    "version": 3
   },
   "file_extension": ".py",
   "mimetype": "text/x-python",
   "name": "python",
   "nbconvert_exporter": "python",
   "pygments_lexer": "ipython3",
   "version": "3.10.9"
  }
 },
 "nbformat": 4,
 "nbformat_minor": 5
}
