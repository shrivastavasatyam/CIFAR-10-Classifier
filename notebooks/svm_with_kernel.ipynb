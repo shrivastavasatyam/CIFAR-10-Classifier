{
 "cells": [
  {
   "cell_type": "markdown",
   "id": "dfffe307",
   "metadata": {},
   "source": [
    "## Appendix-3: SVM with Kernel\n",
    "\n",
    "Support Vector Machines (SVM) are a powerful classification algorithm that learns a decision boundary by maximizing the margin between classes. It can be extended to multiclass classification using one-vs-one or one-vs-rest schemes. \n",
    "\n",
    "We used scikit-learn's SVM implementation with the RBF kernel with default hyperparameters in this notebook."
   ]
  },
  {
   "cell_type": "code",
   "execution_count": 1,
   "id": "fdd69018",
   "metadata": {},
   "outputs": [],
   "source": [
    "# import library dependencies\n",
    "import numpy as np\n",
    "from sklearn.svm import SVC\n",
    "from sklearn.metrics import accuracy_score, precision_score, recall_score, f1_score\n",
    "import joblib"
   ]
  },
  {
   "cell_type": "markdown",
   "id": "aa5b346c",
   "metadata": {},
   "source": [
    "#### Import Data"
   ]
  },
  {
   "cell_type": "code",
   "execution_count": 2,
   "id": "e602f9ff",
   "metadata": {},
   "outputs": [],
   "source": [
    "ROOT_PATH='../'"
   ]
  },
  {
   "cell_type": "code",
   "execution_count": 3,
   "id": "0c207e14",
   "metadata": {},
   "outputs": [],
   "source": [
    "# function to open pickle file\n",
    "def unpickle(file):\n",
    "    import pickle\n",
    "    with open(file, 'rb') as fo:\n",
    "        dict = pickle.load(fo, encoding='bytes')\n",
    "    return dict"
   ]
  },
  {
   "cell_type": "code",
   "execution_count": 4,
   "id": "bc053e1c",
   "metadata": {},
   "outputs": [],
   "source": [
    "# store each pickle files in individual batches\n",
    "batch1 = unpickle(ROOT_PATH+\"cifar-10-batches-py/data_batch_1\")\n",
    "batch2 = unpickle(ROOT_PATH+\"cifar-10-batches-py/data_batch_2\")\n",
    "batch3 = unpickle(ROOT_PATH+\"cifar-10-batches-py/data_batch_3\")\n",
    "batch4 = unpickle(ROOT_PATH+\"cifar-10-batches-py/data_batch_4\")\n",
    "batch5 = unpickle(ROOT_PATH+\"cifar-10-batches-py/data_batch_5\")\n",
    "test_batch = unpickle(ROOT_PATH+\"cifar-10-batches-py/test_batch\")"
   ]
  },
  {
   "cell_type": "code",
   "execution_count": 5,
   "id": "e8edb0be",
   "metadata": {},
   "outputs": [],
   "source": [
    "# function to create labels and images from data\n",
    "def load_data0(btch):\n",
    "    labels = btch[b'labels']\n",
    "    imgs = btch[b'data'].reshape((-1, 32, 32, 3))\n",
    "    \n",
    "    res = []\n",
    "    for ii in range(imgs.shape[0]):\n",
    "        img = imgs[ii].copy()\n",
    "        img = np.fliplr(np.rot90(np.transpose(img.flatten().reshape(3,32,32)), k=-1))\n",
    "        res.append(img)\n",
    "    imgs = np.stack(res)\n",
    "    return labels, imgs"
   ]
  },
  {
   "cell_type": "code",
   "execution_count": 6,
   "id": "fb9ef0ca",
   "metadata": {},
   "outputs": [],
   "source": [
    "# function to load data into training and test set\n",
    "def load_data():\n",
    "    x_train_l = []\n",
    "    y_train_l = []\n",
    "    for ibatch in [batch1, batch2, batch3, batch4, batch5]:\n",
    "        labels, imgs = load_data0(ibatch)\n",
    "        x_train_l.append(imgs)\n",
    "        y_train_l.extend(labels)\n",
    "    x_train = np.vstack(x_train_l)\n",
    "    y_train = np.vstack(y_train_l)\n",
    "    \n",
    "    x_test_l = []\n",
    "    y_test_l = []\n",
    "    labels, imgs = load_data0(test_batch)\n",
    "    x_test_l.append(imgs)\n",
    "    y_test_l.extend(labels)\n",
    "    x_test = np.vstack(x_test_l)\n",
    "    y_test = np.vstack(y_test_l)\n",
    "    return (x_train, y_train), (x_test, y_test)"
   ]
  },
  {
   "cell_type": "markdown",
   "id": "37ea19b5",
   "metadata": {},
   "source": [
    "#### Preprocess Data"
   ]
  },
  {
   "cell_type": "code",
   "execution_count": 7,
   "id": "5dabcffe",
   "metadata": {},
   "outputs": [],
   "source": [
    "# create training and test set\n",
    "(x_train, y_train), (x_test, y_test) = load_data()"
   ]
  },
  {
   "cell_type": "code",
   "execution_count": 8,
   "id": "4ee320f6",
   "metadata": {},
   "outputs": [
    {
     "name": "stdout",
     "output_type": "stream",
     "text": [
      "x_train shape: (50000, 32, 32, 3)\n",
      "y_train shape: (50000, 1)\n",
      "x_test shape: (10000, 32, 32, 3)\n",
      "y_test shape: (10000, 1)\n"
     ]
    }
   ],
   "source": [
    "print('x_train shape:', x_train.shape)\n",
    "print('y_train shape:', y_train.shape)\n",
    "print('x_test shape:', x_test.shape)\n",
    "print('y_test shape:', y_test.shape)"
   ]
  },
  {
   "cell_type": "code",
   "execution_count": 9,
   "id": "5eaad6a0",
   "metadata": {},
   "outputs": [
    {
     "name": "stdout",
     "output_type": "stream",
     "text": [
      "50000 train samples (x)\n",
      "50000 train samples (y)\n"
     ]
    }
   ],
   "source": [
    "print(x_train.shape[0], 'train samples (x)')\n",
    "print(y_train.shape[0], 'train samples (y)')"
   ]
  },
  {
   "cell_type": "code",
   "execution_count": 10,
   "id": "ace3120d",
   "metadata": {},
   "outputs": [
    {
     "name": "stdout",
     "output_type": "stream",
     "text": [
      "10000 test samples (x)\n",
      "10000 test samples (y)\n"
     ]
    }
   ],
   "source": [
    "print(x_test.shape[0], 'test samples (x)')\n",
    "print(y_test.shape[0], 'test samples (y)')"
   ]
  },
  {
   "cell_type": "code",
   "execution_count": 11,
   "id": "6b1aaa1c",
   "metadata": {},
   "outputs": [],
   "source": [
    "# flatten the images and scale the pixel values to [0, 1]\n",
    "x_train = x_train.reshape((x_train.shape[0], -1))\n",
    "x_test = x_test.reshape((x_test.shape[0], -1))\n",
    "x_train = x_train.astype('float32') / 255\n",
    "x_test = x_test.astype('float32') / 255"
   ]
  },
  {
   "cell_type": "markdown",
   "id": "0b9320a8",
   "metadata": {},
   "source": [
    "#### Define model and train"
   ]
  },
  {
   "cell_type": "code",
   "execution_count": 12,
   "id": "b9cbf7bf",
   "metadata": {},
   "outputs": [],
   "source": [
    "# define an SVM model with RBF kernel\n",
    "svm_k = SVC(kernel='rbf', gamma=0.001, C=100, verbose=True)"
   ]
  },
  {
   "cell_type": "code",
   "execution_count": 13,
   "id": "78490b0f",
   "metadata": {},
   "outputs": [
    {
     "name": "stdout",
     "output_type": "stream",
     "text": [
      "[LibSVM]..............................................*.....................*\n",
      "optimization finished, #iter = 67928\n",
      "obj = -72635.574909, rho = 11.252609\n",
      "nSV = 3543, nBSV = 284\n",
      "........................................................*........................*\n",
      "optimization finished, #iter = 80197\n",
      "obj = -142618.383454, rho = -5.890823\n",
      "nSV = 4214, nBSV = 1055\n",
      "...............................................*....................*\n",
      "optimization finished, #iter = 67271\n",
      "obj = -87028.135115, rho = -2.703447\n",
      "nSV = 3474, nBSV = 495\n",
      "...............................................*......................*\n",
      "optimization finished, #iter = 69994\n",
      "obj = -113765.818076, rho = -8.265132\n",
      "nSV = 3589, nBSV = 772\n",
      ".......................................*.................*\n",
      "optimization finished, #iter = 56663\n",
      "obj = -73170.855762, rho = -1.181562\n",
      "nSV = 3098, nBSV = 426\n",
      "..............................*...............*\n",
      "optimization finished, #iter = 45319\n",
      "obj = -62392.946127, rho = -4.595452\n",
      "nSV = 2611, nBSV = 339\n",
      "............................................*......................*\n",
      "optimization finished, #iter = 66203\n",
      "obj = -79612.182691, rho = 2.396883\n",
      "nSV = 3370, nBSV = 395\n",
      ".................................................................*.............................*\n",
      "optimization finished, #iter = 94911\n",
      "obj = -176695.640705, rho = -10.632566\n",
      "nSV = 4714, nBSV = 1412\n",
      ".....................................................*.....................*\n",
      "optimization finished, #iter = 74642\n",
      "obj = -87057.979248, rho = 10.045430\n",
      "nSV = 3788, nBSV = 412\n",
      "....................................*................*\n",
      "optimization finished, #iter = 52767\n",
      "obj = -48100.816261, rho = -14.466735\n",
      "nSV = 2817, nBSV = 122\n",
      ".......................................*....................*\n",
      "optimization finished, #iter = 59420\n",
      "obj = -52028.722466, rho = -11.682215\n",
      "nSV = 3259, nBSV = 136\n",
      "................................*...............*\n",
      "optimization finished, #iter = 47467\n",
      "obj = -45472.062614, rho = -18.087346\n",
      "nSV = 2643, nBSV = 145\n",
      ".................................*................*\n",
      "optimization finished, #iter = 49865\n",
      "obj = -41991.126764, rho = -10.317473\n",
      "nSV = 2873, nBSV = 99\n",
      "............................*..............*\n",
      "optimization finished, #iter = 42426\n",
      "obj = -37809.463301, rho = -14.317431\n",
      "nSV = 2536, nBSV = 80\n",
      "...................................*................*\n",
      "optimization finished, #iter = 51982\n",
      "obj = -43931.607458, rho = -8.232210\n",
      "nSV = 3023, nBSV = 112\n",
      ".................................................*......................*\n",
      "optimization finished, #iter = 71101\n",
      "obj = -78042.245466, rho = -17.526227\n",
      "nSV = 3603, nBSV = 333\n",
      ".....................................................................................*........................................*\n",
      "optimization finished, #iter = 125028\n",
      "obj = -132675.472625, rho = 0.864516\n",
      "nSV = 5962, nBSV = 534\n",
      ".................................................................................*....................................*\n",
      "optimization finished, #iter = 117461\n",
      "obj = -213455.068092, rho = 5.134571\n",
      "nSV = 5686, nBSV = 1651\n",
      ".................................................................................*..................................*\n",
      "optimization finished, #iter = 115339\n",
      "obj = -322272.301884, rho = -1.989278\n",
      "nSV = 6591, nBSV = 2918\n",
      "............................................................................*.....................................*\n",
      "optimization finished, #iter = 113233\n",
      "obj = -200487.521821, rho = 5.470717\n",
      "nSV = 5486, nBSV = 1510\n",
      "......................................................................*..............................*\n",
      "optimization finished, #iter = 100705\n",
      "obj = -214485.672013, rho = 8.373796\n",
      "nSV = 5336, nBSV = 1742\n",
      "...................................................................*.............................*\n",
      "optimization finished, #iter = 96893\n",
      "obj = -144786.602701, rho = 11.385714\n",
      "nSV = 4644, nBSV = 956\n",
      "....................................*...................*\n",
      "optimization finished, #iter = 55510\n",
      "obj = -75380.036036, rho = 0.019196\n",
      "nSV = 2854, nBSV = 486\n",
      "......................................*.................*\n",
      "optimization finished, #iter = 55648\n",
      "obj = -57237.625518, rho = 13.587947\n",
      "nSV = 3028, nBSV = 212\n",
      ".....................................................................*.................................*\n",
      "optimization finished, #iter = 102871\n",
      "obj = -183729.995736, rho = -7.392411\n",
      "nSV = 4978, nBSV = 1374\n",
      ".................................................................................................................*............................................*\n",
      "optimization finished, #iter = 157332\n",
      "obj = -293682.724521, rho = 2.023147\n",
      "nSV = 7619, nBSV = 2289\n",
      "............................................................................*.................................*\n",
      "optimization finished, #iter = 109895\n",
      "obj = -198430.880321, rho = 0.599597\n",
      "nSV = 5519, nBSV = 1465\n",
      "................................................................*..............................*\n",
      "optimization finished, #iter = 94813\n",
      "obj = -123348.543868, rho = 5.373340\n",
      "nSV = 4605, nBSV = 740\n",
      "......................................*.................*\n",
      "optimization finished, #iter = 55240\n",
      "obj = -63630.772111, rho = -3.141234\n",
      "nSV = 2878, nBSV = 318\n",
      "..............................................*....................*\n",
      "optimization finished, #iter = 66695\n",
      "obj = -63094.445601, rho = 11.497117\n",
      "nSV = 3542, nBSV = 208\n",
      "...................................................................*.................................*\n",
      "optimization finished, #iter = 100071\n",
      "obj = -177502.484257, rho = 8.563752\n",
      "nSV = 4855, nBSV = 1310\n",
      "...................................................................*..............................*\n",
      "optimization finished, #iter = 97197\n",
      "obj = -212167.080573, rho = 12.941400\n",
      "nSV = 5242, nBSV = 1818\n",
      ".....................................................................*................................*\n",
      "optimization finished, #iter = 101288\n",
      "obj = -162962.530224, rho = 14.365815\n",
      "nSV = 4846, nBSV = 1116\n",
      ".................................*................*\n",
      "optimization finished, #iter = 49502\n",
      "obj = -71431.602761, rho = 0.915468\n",
      "nSV = 2660, nBSV = 438\n",
      "...................................*.................*\n",
      "optimization finished, #iter = 52060\n",
      "obj = -53636.992306, rho = 16.798654\n",
      "nSV = 2795, nBSV = 188\n",
      "....................................................................*...............................*\n",
      "optimization finished, #iter = 99845\n",
      "obj = -160527.437301, rho = -0.573750\n",
      "nSV = 4897, nBSV = 1118\n",
      "...................................................................*................................*\n",
      "optimization finished, #iter = 99004\n",
      "obj = -136189.060714, rho = 4.541130\n",
      "nSV = 4832, nBSV = 837\n",
      "..............................*................*\n",
      "optimization finished, #iter = 46804\n",
      "obj = -51696.291496, rho = -2.014652\n",
      "nSV = 2538, nBSV = 261\n",
      ".....................................*...................*\n",
      "optimization finished, #iter = 56154\n",
      "obj = -50844.056441, rho = 10.573630\n",
      "nSV = 3102, nBSV = 146\n",
      "...........................................*......................*\n",
      "optimization finished, #iter = 65091\n",
      "obj = -87000.807635, rho = 5.746809\n",
      "nSV = 3416, nBSV = 462\n",
      "......................*..........*\n",
      "optimization finished, #iter = 32157\n",
      "obj = -39959.428293, rho = 0.706176\n",
      "nSV = 1963, nBSV = 192\n",
      ".............................*...............*\n",
      "optimization finished, #iter = 44080\n",
      "obj = -42792.384475, rho = 13.975580\n",
      "nSV = 2635, nBSV = 123\n",
      "..............................*.............*\n",
      "optimization finished, #iter = 43252\n",
      "obj = -44977.517580, rho = -5.966771\n",
      "nSV = 2443, nBSV = 184\n",
      ".............................................*.....................*\n",
      "optimization finished, #iter = 66572\n",
      "obj = -64601.279916, rho = 7.469977\n",
      "nSV = 3601, nBSV = 221\n",
      "................................................*.......................*\n",
      "optimization finished, #iter = 71878\n",
      "obj = -80756.525974, rho = 15.862760\n",
      "nSV = 3597, nBSV = 372\n",
      "Total nSV = 42569\n"
     ]
    },
    {
     "data": {
      "text/html": [
       "<style>#sk-container-id-1 {color: black;background-color: white;}#sk-container-id-1 pre{padding: 0;}#sk-container-id-1 div.sk-toggleable {background-color: white;}#sk-container-id-1 label.sk-toggleable__label {cursor: pointer;display: block;width: 100%;margin-bottom: 0;padding: 0.3em;box-sizing: border-box;text-align: center;}#sk-container-id-1 label.sk-toggleable__label-arrow:before {content: \"▸\";float: left;margin-right: 0.25em;color: #696969;}#sk-container-id-1 label.sk-toggleable__label-arrow:hover:before {color: black;}#sk-container-id-1 div.sk-estimator:hover label.sk-toggleable__label-arrow:before {color: black;}#sk-container-id-1 div.sk-toggleable__content {max-height: 0;max-width: 0;overflow: hidden;text-align: left;background-color: #f0f8ff;}#sk-container-id-1 div.sk-toggleable__content pre {margin: 0.2em;color: black;border-radius: 0.25em;background-color: #f0f8ff;}#sk-container-id-1 input.sk-toggleable__control:checked~div.sk-toggleable__content {max-height: 200px;max-width: 100%;overflow: auto;}#sk-container-id-1 input.sk-toggleable__control:checked~label.sk-toggleable__label-arrow:before {content: \"▾\";}#sk-container-id-1 div.sk-estimator input.sk-toggleable__control:checked~label.sk-toggleable__label {background-color: #d4ebff;}#sk-container-id-1 div.sk-label input.sk-toggleable__control:checked~label.sk-toggleable__label {background-color: #d4ebff;}#sk-container-id-1 input.sk-hidden--visually {border: 0;clip: rect(1px 1px 1px 1px);clip: rect(1px, 1px, 1px, 1px);height: 1px;margin: -1px;overflow: hidden;padding: 0;position: absolute;width: 1px;}#sk-container-id-1 div.sk-estimator {font-family: monospace;background-color: #f0f8ff;border: 1px dotted black;border-radius: 0.25em;box-sizing: border-box;margin-bottom: 0.5em;}#sk-container-id-1 div.sk-estimator:hover {background-color: #d4ebff;}#sk-container-id-1 div.sk-parallel-item::after {content: \"\";width: 100%;border-bottom: 1px solid gray;flex-grow: 1;}#sk-container-id-1 div.sk-label:hover label.sk-toggleable__label {background-color: #d4ebff;}#sk-container-id-1 div.sk-serial::before {content: \"\";position: absolute;border-left: 1px solid gray;box-sizing: border-box;top: 0;bottom: 0;left: 50%;z-index: 0;}#sk-container-id-1 div.sk-serial {display: flex;flex-direction: column;align-items: center;background-color: white;padding-right: 0.2em;padding-left: 0.2em;position: relative;}#sk-container-id-1 div.sk-item {position: relative;z-index: 1;}#sk-container-id-1 div.sk-parallel {display: flex;align-items: stretch;justify-content: center;background-color: white;position: relative;}#sk-container-id-1 div.sk-item::before, #sk-container-id-1 div.sk-parallel-item::before {content: \"\";position: absolute;border-left: 1px solid gray;box-sizing: border-box;top: 0;bottom: 0;left: 50%;z-index: -1;}#sk-container-id-1 div.sk-parallel-item {display: flex;flex-direction: column;z-index: 1;position: relative;background-color: white;}#sk-container-id-1 div.sk-parallel-item:first-child::after {align-self: flex-end;width: 50%;}#sk-container-id-1 div.sk-parallel-item:last-child::after {align-self: flex-start;width: 50%;}#sk-container-id-1 div.sk-parallel-item:only-child::after {width: 0;}#sk-container-id-1 div.sk-dashed-wrapped {border: 1px dashed gray;margin: 0 0.4em 0.5em 0.4em;box-sizing: border-box;padding-bottom: 0.4em;background-color: white;}#sk-container-id-1 div.sk-label label {font-family: monospace;font-weight: bold;display: inline-block;line-height: 1.2em;}#sk-container-id-1 div.sk-label-container {text-align: center;}#sk-container-id-1 div.sk-container {/* jupyter's `normalize.less` sets `[hidden] { display: none; }` but bootstrap.min.css set `[hidden] { display: none !important; }` so we also need the `!important` here to be able to override the default hidden behavior on the sphinx rendered scikit-learn.org. See: https://github.com/scikit-learn/scikit-learn/issues/21755 */display: inline-block !important;position: relative;}#sk-container-id-1 div.sk-text-repr-fallback {display: none;}</style><div id=\"sk-container-id-1\" class=\"sk-top-container\"><div class=\"sk-text-repr-fallback\"><pre>SVC(C=100, gamma=0.001, verbose=True)</pre><b>In a Jupyter environment, please rerun this cell to show the HTML representation or trust the notebook. <br />On GitHub, the HTML representation is unable to render, please try loading this page with nbviewer.org.</b></div><div class=\"sk-container\" hidden><div class=\"sk-item\"><div class=\"sk-estimator sk-toggleable\"><input class=\"sk-toggleable__control sk-hidden--visually\" id=\"sk-estimator-id-1\" type=\"checkbox\" checked><label for=\"sk-estimator-id-1\" class=\"sk-toggleable__label sk-toggleable__label-arrow\">SVC</label><div class=\"sk-toggleable__content\"><pre>SVC(C=100, gamma=0.001, verbose=True)</pre></div></div></div></div></div>"
      ],
      "text/plain": [
       "SVC(C=100, gamma=0.001, verbose=True)"
      ]
     },
     "execution_count": 13,
     "metadata": {},
     "output_type": "execute_result"
    }
   ],
   "source": [
    "svm_k.fit(x_train, y_train.ravel())"
   ]
  },
  {
   "cell_type": "markdown",
   "id": "e5f333ac",
   "metadata": {},
   "source": [
    "#### Save and load model"
   ]
  },
  {
   "cell_type": "code",
   "execution_count": 15,
   "id": "e8c8967b",
   "metadata": {},
   "outputs": [
    {
     "data": {
      "text/plain": [
       "['svm_with_kernel.sav']"
      ]
     },
     "execution_count": 15,
     "metadata": {},
     "output_type": "execute_result"
    }
   ],
   "source": [
    "# Save the model to a file\n",
    "joblib.dump(svm_k, 'svm_with_kernel.sav')"
   ]
  },
  {
   "cell_type": "code",
   "execution_count": 16,
   "id": "d6a76c7a",
   "metadata": {},
   "outputs": [],
   "source": [
    "# Load the saved model from a file\n",
    "loaded_model = joblib.load('svm_with_kernel.sav')"
   ]
  },
  {
   "cell_type": "code",
   "execution_count": 17,
   "id": "d798a699",
   "metadata": {},
   "outputs": [],
   "source": [
    "# predict the labels of the test set\n",
    "y_pred = loaded_model.predict(x_test)"
   ]
  },
  {
   "cell_type": "markdown",
   "id": "d41240b0",
   "metadata": {},
   "source": [
    "#### Evaluate the model"
   ]
  },
  {
   "cell_type": "code",
   "execution_count": 18,
   "id": "7ae4e3c6",
   "metadata": {},
   "outputs": [],
   "source": [
    "# compute the accuracy, precision, recall, and F1 score of the classifier\n",
    "train_acc = accuracy_score(y_train.ravel(), loaded_model.predict(x_train))\n",
    "test_acc = accuracy_score(y_test.ravel(), y_pred)\n",
    "precision = precision_score(y_test.ravel(), y_pred, average='macro')\n",
    "recall = recall_score(y_test.ravel(), y_pred, average='macro')\n",
    "f1 = f1_score(y_test.ravel(), y_pred, average='macro')"
   ]
  },
  {
   "cell_type": "code",
   "execution_count": 19,
   "id": "1700fa4e",
   "metadata": {},
   "outputs": [
    {
     "name": "stdout",
     "output_type": "stream",
     "text": [
      "Train Accuracy: 0.93224\n",
      "Test Accuracy: 0.539\n",
      "Precision: 0.542\n",
      "Recall: 0.539\n",
      "F1 Score: 0.540\n"
     ]
    }
   ],
   "source": [
    "# print accuracy, precision, recall, and F1 score\n",
    "print('Train Accuracy:', train_acc)\n",
    "print('Test Accuracy:', test_acc)\n",
    "print('Precision: {:.3f}'.format(precision))\n",
    "print('Recall: {:.3f}'.format(recall))\n",
    "print('F1 Score: {:.3f}'.format(f1))"
   ]
  }
 ],
 "metadata": {
  "kernelspec": {
   "display_name": "Python 3 (ipykernel)",
   "language": "python",
   "name": "python3"
  },
  "language_info": {
   "codemirror_mode": {
    "name": "ipython",
    "version": 3
   },
   "file_extension": ".py",
   "mimetype": "text/x-python",
   "name": "python",
   "nbconvert_exporter": "python",
   "pygments_lexer": "ipython3",
   "version": "3.10.9"
  }
 },
 "nbformat": 4,
 "nbformat_minor": 5
}
